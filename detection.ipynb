{
 "cells": [
  {
   "cell_type": "code",
   "execution_count": 1,
   "metadata": {},
   "outputs": [
    {
     "name": "stderr",
     "output_type": "stream",
     "text": [
      "Using TensorFlow backend.\n"
     ]
    }
   ],
   "source": [
    "from keras.models import Sequential\n",
    "from keras.layers import Dense\n",
    "from keras.layers import Convolution2D\n",
    "from keras.layers import MaxPooling2D\n",
    "from keras.layers import Flatten"
   ]
  },
  {
   "cell_type": "code",
   "execution_count": 2,
   "metadata": {},
   "outputs": [
    {
     "name": "stdout",
     "output_type": "stream",
     "text": [
      "WARNING:tensorflow:From C:\\Users\\anshu\\AppData\\Local\\Continuum\\anaconda3\\lib\\site-packages\\keras\\backend\\tensorflow_backend.py:74: The name tf.get_default_graph is deprecated. Please use tf.compat.v1.get_default_graph instead.\n",
      "\n"
     ]
    }
   ],
   "source": [
    "model = Sequential()"
   ]
  },
  {
   "cell_type": "code",
   "execution_count": 3,
   "metadata": {},
   "outputs": [
    {
     "name": "stdout",
     "output_type": "stream",
     "text": [
      "WARNING:tensorflow:From C:\\Users\\anshu\\AppData\\Local\\Continuum\\anaconda3\\lib\\site-packages\\keras\\backend\\tensorflow_backend.py:517: The name tf.placeholder is deprecated. Please use tf.compat.v1.placeholder instead.\n",
      "\n",
      "WARNING:tensorflow:From C:\\Users\\anshu\\AppData\\Local\\Continuum\\anaconda3\\lib\\site-packages\\keras\\backend\\tensorflow_backend.py:4138: The name tf.random_uniform is deprecated. Please use tf.random.uniform instead.\n",
      "\n"
     ]
    },
    {
     "name": "stderr",
     "output_type": "stream",
     "text": [
      "C:\\Users\\anshu\\AppData\\Local\\Continuum\\anaconda3\\lib\\site-packages\\ipykernel_launcher.py:1: UserWarning: Update your `Conv2D` call to the Keras 2 API: `Conv2D(32, (3, 3), input_shape=(64, 64, 3..., activation=\"relu\")`\n",
      "  \"\"\"Entry point for launching an IPython kernel.\n"
     ]
    }
   ],
   "source": [
    "model.add(Convolution2D(32,3,3,input_shape=(64,64,3),activation = 'relu'))"
   ]
  },
  {
   "cell_type": "code",
   "execution_count": 4,
   "metadata": {},
   "outputs": [
    {
     "name": "stdout",
     "output_type": "stream",
     "text": [
      "WARNING:tensorflow:From C:\\Users\\anshu\\AppData\\Local\\Continuum\\anaconda3\\lib\\site-packages\\keras\\backend\\tensorflow_backend.py:3976: The name tf.nn.max_pool is deprecated. Please use tf.nn.max_pool2d instead.\n",
      "\n"
     ]
    }
   ],
   "source": [
    "model.add(MaxPooling2D(pool_size=(2,2)))"
   ]
  },
  {
   "cell_type": "code",
   "execution_count": 5,
   "metadata": {},
   "outputs": [],
   "source": [
    "model.add(Flatten())"
   ]
  },
  {
   "cell_type": "code",
   "execution_count": 6,
   "metadata": {},
   "outputs": [
    {
     "name": "stderr",
     "output_type": "stream",
     "text": [
      "C:\\Users\\anshu\\AppData\\Local\\Continuum\\anaconda3\\lib\\site-packages\\ipykernel_launcher.py:1: UserWarning: Update your `Dense` call to the Keras 2 API: `Dense(activation=\"relu\", units=100, kernel_initializer=\"uniform\")`\n",
      "  \"\"\"Entry point for launching an IPython kernel.\n"
     ]
    }
   ],
   "source": [
    "model.add(Dense(init = 'uniform', activation = 'relu', units = 100))"
   ]
  },
  {
   "cell_type": "code",
   "execution_count": 7,
   "metadata": {},
   "outputs": [
    {
     "name": "stderr",
     "output_type": "stream",
     "text": [
      "C:\\Users\\anshu\\AppData\\Local\\Continuum\\anaconda3\\lib\\site-packages\\ipykernel_launcher.py:1: UserWarning: Update your `Dense` call to the Keras 2 API: `Dense(activation=\"softmax\", units=120, kernel_initializer=\"uniform\")`\n",
      "  \"\"\"Entry point for launching an IPython kernel.\n"
     ]
    }
   ],
   "source": [
    "model.add(Dense(init = 'uniform', activation = 'softmax',units = 120))"
   ]
  },
  {
   "cell_type": "code",
   "execution_count": 8,
   "metadata": {},
   "outputs": [
    {
     "name": "stdout",
     "output_type": "stream",
     "text": [
      "WARNING:tensorflow:From C:\\Users\\anshu\\AppData\\Local\\Continuum\\anaconda3\\lib\\site-packages\\keras\\optimizers.py:790: The name tf.train.Optimizer is deprecated. Please use tf.compat.v1.train.Optimizer instead.\n",
      "\n",
      "WARNING:tensorflow:From C:\\Users\\anshu\\AppData\\Local\\Continuum\\anaconda3\\lib\\site-packages\\keras\\backend\\tensorflow_backend.py:3295: The name tf.log is deprecated. Please use tf.math.log instead.\n",
      "\n"
     ]
    }
   ],
   "source": [
    "model.compile(loss=\"categorical_crossentropy\",optimizer='adam',metrics=[\"accuracy\"])"
   ]
  },
  {
   "cell_type": "code",
   "execution_count": 9,
   "metadata": {},
   "outputs": [],
   "source": [
    "#preprocessing technique to the image data\n",
    "from keras.preprocessing.image import ImageDataGenerator\n",
    "train_datagen = ImageDataGenerator(rescale = 1./255, shear_range = 0.2, zoom_range = 0.2, horizontal_flip = True)\n",
    "test_datagen = ImageDataGenerator(rescale = 1./255)"
   ]
  },
  {
   "cell_type": "code",
   "execution_count": 11,
   "metadata": {},
   "outputs": [
    {
     "name": "stdout",
     "output_type": "stream",
     "text": [
      "Found 60486 images belonging to 120 classes.\n",
      "Found 20618 images belonging to 120 classes.\n"
     ]
    }
   ],
   "source": [
    "x_train = train_datagen.flow_from_directory(r\"C:\\\\Users\\\\anshu\\\\Desktop\\\\books\\\\internship\\\\fruits-360\\\\Training\",target_size=(64,64), batch_size = 64, class_mode = \"categorical\")\n",
    "x_test = train_datagen.flow_from_directory(r\"C:\\\\Users\\\\anshu\\\\Desktop\\\\books\\\\internship\\\\fruits-360\\\\Test\",target_size=(64,64), batch_size = 64, class_mode = \"categorical\")"
   ]
  },
  {
   "cell_type": "code",
   "execution_count": 12,
   "metadata": {},
   "outputs": [
    {
     "name": "stdout",
     "output_type": "stream",
     "text": [
      "WARNING:tensorflow:From C:\\Users\\anshu\\AppData\\Local\\Continuum\\anaconda3\\lib\\site-packages\\tensorflow\\python\\ops\\math_grad.py:1250: add_dispatch_support.<locals>.wrapper (from tensorflow.python.ops.array_ops) is deprecated and will be removed in a future version.\n",
      "Instructions for updating:\n",
      "Use tf.where in 2.0, which has the same broadcast rule as np.where\n",
      "WARNING:tensorflow:From C:\\Users\\anshu\\AppData\\Local\\Continuum\\anaconda3\\lib\\site-packages\\keras\\backend\\tensorflow_backend.py:986: The name tf.assign_add is deprecated. Please use tf.compat.v1.assign_add instead.\n",
      "\n",
      "Epoch 1/10\n",
      "945/945 [==============================] - 3309s 4s/step - loss: 1.4736 - acc: 0.5905 - val_loss: 0.7940 - val_acc: 0.7630\n",
      "Epoch 2/10\n",
      "945/945 [==============================] - 238s 251ms/step - loss: 0.5146 - acc: 0.8415 - val_loss: 0.5904 - val_acc: 0.8202\n",
      "Epoch 3/10\n",
      "945/945 [==============================] - 233s 247ms/step - loss: 0.3626 - acc: 0.8855 - val_loss: 0.5496 - val_acc: 0.8341\n",
      "Epoch 4/10\n",
      "945/945 [==============================] - 254s 269ms/step - loss: 0.2644 - acc: 0.9179 - val_loss: 0.4219 - val_acc: 0.8699\n",
      "Epoch 5/10\n",
      "945/945 [==============================] - 250s 265ms/step - loss: 0.2081 - acc: 0.9327 - val_loss: 0.3731 - val_acc: 0.8762\n",
      "Epoch 6/10\n",
      "945/945 [==============================] - 269s 285ms/step - loss: 0.1766 - acc: 0.9426 - val_loss: 0.2923 - val_acc: 0.9086\n",
      "Epoch 7/10\n",
      "945/945 [==============================] - 265s 281ms/step - loss: 0.1498 - acc: 0.9510 - val_loss: 0.3013 - val_acc: 0.9058\n",
      "Epoch 8/10\n",
      "945/945 [==============================] - 239s 253ms/step - loss: 0.1248 - acc: 0.9598 - val_loss: 0.3279 - val_acc: 0.9014\n",
      "Epoch 9/10\n",
      "945/945 [==============================] - 215s 228ms/step - loss: 0.1079 - acc: 0.9650 - val_loss: 0.3061 - val_acc: 0.9062\n",
      "Epoch 10/10\n",
      "945/945 [==============================] - 223s 235ms/step - loss: 0.1088 - acc: 0.9642 - val_loss: 0.2956 - val_acc: 0.9151\n"
     ]
    },
    {
     "data": {
      "text/plain": [
       "<keras.callbacks.History at 0x1c3f0e1a198>"
      ]
     },
     "execution_count": 12,
     "metadata": {},
     "output_type": "execute_result"
    }
   ],
   "source": [
    "model.fit_generator(x_train, steps_per_epoch = 945,epochs=10,validation_data = x_test,validation_steps = 322)"
   ]
  },
  {
   "cell_type": "code",
   "execution_count": 13,
   "metadata": {},
   "outputs": [],
   "source": [
    "model.save(\"detect.h5\")"
   ]
  },
  {
   "cell_type": "code",
   "execution_count": 20,
   "metadata": {},
   "outputs": [
    {
     "name": "stdout",
     "output_type": "stream",
     "text": [
      "{'Apple Braeburn': 0, 'Apple Crimson Snow': 1, 'Apple Golden 1': 2, 'Apple Golden 2': 3, 'Apple Golden 3': 4, 'Apple Granny Smith': 5, 'Apple Pink Lady': 6, 'Apple Red 1': 7, 'Apple Red 2': 8, 'Apple Red 3': 9, 'Apple Red Delicious': 10, 'Apple Red Yellow 1': 11, 'Apple Red Yellow 2': 12, 'Apricot': 13, 'Avocado': 14, 'Avocado ripe': 15, 'Banana': 16, 'Banana Lady Finger': 17, 'Banana Red': 18, 'Beetroot': 19, 'Blueberry': 20, 'Cactus fruit': 21, 'Cantaloupe 1': 22, 'Cantaloupe 2': 23, 'Carambula': 24, 'Cauliflower': 25, 'Cherry 1': 26, 'Cherry 2': 27, 'Cherry Rainier': 28, 'Cherry Wax Black': 29, 'Cherry Wax Red': 30, 'Cherry Wax Yellow': 31, 'Chestnut': 32, 'Clementine': 33, 'Cocos': 34, 'Dates': 35, 'Eggplant': 36, 'Ginger Root': 37, 'Granadilla': 38, 'Grape Blue': 39, 'Grape Pink': 40, 'Grape White': 41, 'Grape White 2': 42, 'Grape White 3': 43, 'Grape White 4': 44, 'Grapefruit Pink': 45, 'Grapefruit White': 46, 'Guava': 47, 'Hazelnut': 48, 'Huckleberry': 49, 'Kaki': 50, 'Kiwi': 51, 'Kohlrabi': 52, 'Kumquats': 53, 'Lemon': 54, 'Lemon Meyer': 55, 'Limes': 56, 'Lychee': 57, 'Mandarine': 58, 'Mango': 59, 'Mango Red': 60, 'Mangostan': 61, 'Maracuja': 62, 'Melon Piel de Sapo': 63, 'Mulberry': 64, 'Nectarine': 65, 'Nectarine Flat': 66, 'Nut Forest': 67, 'Nut Pecan': 68, 'Onion Red': 69, 'Onion Red Peeled': 70, 'Onion White': 71, 'Orange': 72, 'Papaya': 73, 'Passion Fruit': 74, 'Peach': 75, 'Peach 2': 76, 'Peach Flat': 77, 'Pear': 78, 'Pear Abate': 79, 'Pear Forelle': 80, 'Pear Kaiser': 81, 'Pear Monster': 82, 'Pear Red': 83, 'Pear Williams': 84, 'Pepino': 85, 'Pepper Green': 86, 'Pepper Red': 87, 'Pepper Yellow': 88, 'Physalis': 89, 'Physalis with Husk': 90, 'Pineapple': 91, 'Pineapple Mini': 92, 'Pitahaya Red': 93, 'Plum': 94, 'Plum 2': 95, 'Plum 3': 96, 'Pomegranate': 97, 'Pomelo Sweetie': 98, 'Potato Red': 99, 'Potato Red Washed': 100, 'Potato Sweet': 101, 'Potato White': 102, 'Quince': 103, 'Rambutan': 104, 'Raspberry': 105, 'Redcurrant': 106, 'Salak': 107, 'Strawberry': 108, 'Strawberry Wedge': 109, 'Tamarillo': 110, 'Tangelo': 111, 'Tomato 1': 112, 'Tomato 2': 113, 'Tomato 3': 114, 'Tomato 4': 115, 'Tomato Cherry Red': 116, 'Tomato Maroon': 117, 'Tomato Yellow': 118, 'Walnut': 119}\n"
     ]
    }
   ],
   "source": [
    "print(x_train.class_indices)"
   ]
  },
  {
   "cell_type": "code",
   "execution_count": null,
   "metadata": {},
   "outputs": [],
   "source": []
  },
  {
   "cell_type": "code",
   "execution_count": null,
   "metadata": {},
   "outputs": [],
   "source": []
  },
  {
   "cell_type": "code",
   "execution_count": null,
   "metadata": {},
   "outputs": [],
   "source": []
  }
 ],
 "metadata": {
  "kernelspec": {
   "display_name": "Python 3",
   "language": "python",
   "name": "python3"
  },
  "language_info": {
   "codemirror_mode": {
    "name": "ipython",
    "version": 3
   },
   "file_extension": ".py",
   "mimetype": "text/x-python",
   "name": "python",
   "nbconvert_exporter": "python",
   "pygments_lexer": "ipython3",
   "version": "3.7.3"
  }
 },
 "nbformat": 4,
 "nbformat_minor": 2
}
